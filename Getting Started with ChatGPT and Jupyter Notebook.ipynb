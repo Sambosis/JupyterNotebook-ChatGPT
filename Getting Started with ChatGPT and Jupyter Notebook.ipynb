{
  "cells": [
    {
      "cell_type": "markdown",
      "source": [
        "# Getting Started with ChatGPT and Jupyter Notebook \r\n",
        "\r\n"
      ],
      "metadata": {
        "nteract": {
          "transient": {
            "deleting": false
          }
        }
      }
    },
    {
      "cell_type": "markdown",
      "source": [
        "__Notebook Version:__ 1.0 <br>\r\n",
        "__Notebook Author:__ Antonio Formato<br>\r\n",
        "\r\n",
        "\r\n",
        "__Python Version:__ >=Python 3.8<br>\r\n",
        "\r\n",
        "__Data Source Required:__ None<br>\r\n",
        "\r\n",
        "__GPU Compute Required:__ No<br>\r\n",
        "\r\n",
        "__Packages Downloaded:__ \r\n",
        "- requests\r\n",
        "- ipywidgets"
      ],
      "metadata": {
        "nteract": {
          "transient": {
            "deleting": false
          }
        }
      }
    },
    {
      "cell_type": "markdown",
      "source": [
        "![OpenAI - Microsoft](images/openai.png)"
      ],
      "metadata": {
        "nteract": {
          "transient": {
            "deleting": false
          }
        }
      }
    },
    {
      "cell_type": "markdown",
      "source": [
        "This work is based on previous idea integratin ChatGPT with Microsoft Sentinel via Logic App.\r\n",
        "More info here: [ChatGPT and Microsoft Sentinel — simplify the incident handling process](https://medium.com/@antonio.formato/chatgpt-and-microsoft-sentinel-simplify-the-incident-handling-process-7f1c6a1ed925)\r\n",
        "<br><br>\r\n",
        "In my previous blog post, I explored the integration of ChatGPT with Microsoft Sentinel, cloud-native security information and event management (SIEM) platform that helps organizations detect and respond to threats in real-time. The goal of the integration was to speed up and simplify the incident handling process by leveraging the power of ChatGPT. I went through the process of obtaining an API key for ChatGPT, creating a Microsoft Sentinel Playbook, and explained the use case for adding comments and tasks to incidents based on the tactics and techniques used by attackers.\r\n",
        "<br><br>\r\n",
        "I'll be taking a different approach to integrating ChatGPT. I'll be sharing my experience of integrating ChatGPT with Jupyter Notebook. The integration will allow us to use ChatGPT in a notebook environment, started from Microsoft Sentinel Notebooks, where we can easily interact with the model and perform various tasks, such as natural language processing and text generation.<br><br>\r\n",
        "Basically this example Notebook is aiming to provide interface to ask questions to ChatGPT, helping security analyst to investigate cyber threats.\r\n",
        "\r\n",
        "Please be aware it's just a playground.\r\n",
        "\r\n",
        "<div style=\"color: Black; background-color: LightGoldenRodYellow; padding: 5px; font-size: 20px\">\r\n",
        "<p>Sharing sensitive information with an AI like ChatGPT requires careful consideration of the risks and potential consequences. \r\n",
        "Organizations need to ensure that they have robust privacy, security, and ethical frameworks in place to protect sensitive information and minimize the potential for harm.</p>\r\n",
        "<div style=\"font-size: 14px\">\r\n",
        "</div>\r\n",
        "</div>\r\n"
      ],
      "metadata": {
        "nteract": {
          "transient": {
            "deleting": false
          }
        }
      }
    },
    {
      "cell_type": "markdown",
      "source": [
        "Integrating ChatGPT with Jupyter Notebooks can be useful for cyber investigations in several ways:\r\n",
        "\r\n",
        "1. *Natural language processing (NLP) capabilities*: ChatGPT has advanced NLP capabilities that can help analysts process and understand large amounts of data. This can be especially useful in cyber investigations where vast amounts of unstructured data, such as logs, need to be analyzed.\r\n",
        "\r\n",
        "2. *Knowledge retrieval*: ChatGPT has been trained on a diverse range of topics and has the ability to quickly retrieve information on various technical and non-technical subjects. This can help analysts get quick answers to their questions, saving time and effort in their investigations.\r\n",
        "\r\n",
        "3. *Automation*: ChatGPT can automate repetitive tasks, freeing up time and resources for the analyst to focus on more complex tasks. For example, ChatGPT can automate the process of collecting data from multiple sources, performing data analysis, and generating reports.\r\n",
        "\r\n",
        "4. *Reproducibility*: Jupyter Notebooks are designed for reproducibility and collaboration, making it easy for analysts to share their work with others and collaborate on investigations. By integrating ChatGPT with Jupyter Notebooks, analysts can take advantage of these features and create more efficient and effective cyber investigations.\r\n",
        "\r\n",
        "Overall, ChatGPT's NLP capabilities and knowledge retrieval ability, combined with the automation and reproducibility features of Jupyter Notebooks, make it a valuable tool for cyber investigations."
      ],
      "metadata": {
        "nteract": {
          "transient": {
            "deleting": false
          }
        }
      }
    },
    {
      "cell_type": "markdown",
      "source": [
        "## ChatGPT function\r\n",
        "\r\n",
        "This code is a Python function that uses the OpenAI API to generate text completions based on a given prompt. The function, named **chatGPT**, takes one argument: text, which represents the prompt or text that the API should use to generate text completions.<br>\r\n",
        "<br>\r\n",
        "The function uses the requests library to make a POST request to the OpenAI API endpoint. The request includes the following parameters:\r\n",
        "\r\n",
        "- `model`: The name of the OpenAI language model to use. In this case, the model is `text-davinci-003`.\r\n",
        "- `prompt`: The text to use as a prompt for text completions. This is passed as the argument to the chatGPT function.\r\n",
        "- `max_tokens`: The maximum number of tokens to generate in the text completion. A token is a sequence of characters that represents a single element of meaning. In this case, the maximum number of tokens is set to 4000.\r\n",
        "- `temperature`: Controls the creativity and originality of the generated text. A temperature of 1.0 means the generated text is intended to be as original as possible.\r\n",
        "<br>\r\n",
        "The function then parses the response from the API and extracts the generated text from the choices element in the JSON response. The generated text is then returned by the function using the print statement.\r\n",
        "<br><br>\r\n",
        "The **chatGPT** function can be used to generate text completions based on a given prompt, making use of the power of the OpenAI language model to generate coherent and coherent text. This function can be used as part of a larger project, such as a chatbot, that needs to generate text based on user input."
      ],
      "metadata": {
        "nteract": {
          "transient": {
            "deleting": false
          }
        }
      }
    },
    {
      "cell_type": "code",
      "source": [
        "import requests\r\n",
        "def CHATGPT(text):\r\n",
        "  openaiurl = \"https://api.openai.com/v1/completions\"\r\n",
        "  headers = {\r\n",
        "  \"Content-Type\": \"application/json\",\r\n",
        "  \"Authorization\": \"Bearer INSERT YOUR OPENAI API KEY\",\r\n",
        "  }\r\n",
        "  data = { \r\n",
        "  \"model\": \"text-davinci-003\",\r\n",
        "  \"prompt\": text,\r\n",
        "  \"max_tokens\": 5000,\r\n",
        "  \"temperature\": 1.0,\r\n",
        "  }\r\n",
        "  response = requests.post(openaiurl, headers=headers, json=data)\r\n",
        "  output = response.json()['choices'][0]['text']\r\n",
        "  \r\n",
        "  return print(output)"
      ],
      "outputs": [],
      "execution_count": 0,
      "metadata": {
        "jupyter": {
          "source_hidden": false,
          "outputs_hidden": false
        },
        "nteract": {
          "transient": {
            "deleting": false
          }
        },
        "gather": {
          "logged": 1676242744874
        }
      }
    },
    {
      "cell_type": "markdown",
      "source": [
        "## Ask a question :)\r\n",
        "\r\n",
        "This code creates a text input widget in Jupyter notebooks using the `ipywidgets` library.<br> The widget is defined using the widgets.Text constructor and its various properties are set using arguments passed to the constructor.<br>\r\n",
        "\r\n",
        "The properties that are set for the widget include:\r\n",
        "\r\n",
        "- `value`: The initial value of the widget, which is set to an empty string in this case.\r\n",
        "- `placeholder`: A string that appears in the widget when it is empty and not in focus, indicating what the user should enter. In this case, the placeholder text is set to \"Enter the TEXT\".\r\n",
        "- `description`: A label for the widget that is displayed above it. In this case, the description is set to \"Test:\".\r\n",
        "- `layout`: The layout of the widget, including its width and height. In this case, the width is set to 90% of the available width and the height is set to 40 pixels.\r\n",
        "- `disabled`: Whether the widget is editable or not. In this case, the widget is not disabled and is therefore editable.\r\n",
        "<br><br>\r\n",
        "Finally, the display function from the ipywidgets library is called to display the widget in the Jupyter notebook. The widget is displayed with the label \"Test:\" above it and a placeholder text of \"Enter the TEXT\". The user can enter text into the widget, and the text entered will be stored in the ask variable for further processing."
      ],
      "metadata": {
        "nteract": {
          "transient": {
            "deleting": false
          }
        }
      }
    },
    {
      "cell_type": "code",
      "source": [
        "import ipywidgets as widgets\r\n",
        "from ipywidgets import Button, Layout, Checkbox\r\n",
        "ask = widgets.Text(\r\n",
        "    value = \"\",\r\n",
        "    placeholder = 'Enter the TEXT',\r\n",
        "    description = 'Test:',\r\n",
        "    layout = Layout(width='90%', height='40px'),\r\n",
        "    disabled = False\r\n",
        ")\r\n",
        "display(ask)"
      ],
      "outputs": [
        {
          "output_type": "display_data",
          "data": {
            "text/plain": "Text(value='', description='Test:', layout=Layout(height='40px', width='90%'), placeholder='Enter the TEXT')",
            "application/vnd.jupyter.widget-view+json": {
              "version_major": 2,
              "version_minor": 0,
              "model_id": "b3e5d88fa506438ab5a0b6142c467aab"
            }
          },
          "metadata": {}
        }
      ],
      "execution_count": 60,
      "metadata": {
        "jupyter": {
          "source_hidden": false,
          "outputs_hidden": false
        },
        "nteract": {
          "transient": {
            "deleting": false
          }
        },
        "gather": {
          "logged": 1676242750510
        }
      }
    },
    {
      "cell_type": "markdown",
      "source": [
        "## Print question"
      ],
      "metadata": {
        "nteract": {
          "transient": {
            "deleting": false
          }
        }
      }
    },
    {
      "cell_type": "code",
      "source": [
        "print(ask.value)"
      ],
      "outputs": [
        {
          "output_type": "stream",
          "name": "stdout",
          "text": "Please give me detail about \"Golden SAML attack\", when it was first used and by whom\n"
        }
      ],
      "execution_count": 61,
      "metadata": {
        "jupyter": {
          "source_hidden": false,
          "outputs_hidden": false
        },
        "nteract": {
          "transient": {
            "deleting": false
          }
        },
        "gather": {
          "logged": 1676242758553
        }
      }
    },
    {
      "cell_type": "markdown",
      "source": [
        "## Ask question to CHATGPT using function `chatGPT`."
      ],
      "metadata": {
        "nteract": {
          "transient": {
            "deleting": false
          }
        }
      }
    },
    {
      "cell_type": "code",
      "source": [
        "  CHATGPT(ask.value)"
      ],
      "outputs": [
        {
          "output_type": "stream",
          "name": "stdout",
          "text": ".\n\nThe Golden SAML attack was introduced in 2019 by researchers at the SEC/CERT Coordination Center of Carnegie Mellon University in cooperation with Microsoft. The attack exploits improper configuration of Security Assertion Markup Language (SAML) by allowing attackers to craft a special SAML request to gain access to a targeted web application. This attack is made possible when the web application mistakenly trusts assertions from the attacker, with the attacker using the “golden SAML” credential to authenticate to the application and gain access. The attack could be used to access sensitive data or inject malicious payloads into the web application.\n"
        }
      ],
      "execution_count": 62,
      "metadata": {
        "jupyter": {
          "source_hidden": false,
          "outputs_hidden": false
        },
        "nteract": {
          "transient": {
            "deleting": false
          }
        },
        "gather": {
          "logged": 1676242775047
        }
      }
    },
    {
      "cell_type": "markdown",
      "source": [
        "I hope you have **enjoyed** using this **Jupyter Notebook**.<br> \r\n",
        "I believe that it can be a valuable tool for managing and analyzing threat intelligence data.<br> \r\n",
        "If you found this notebook useful, I invite you to obtain the latest version from Github and to contribute to its development.<br> \r\n",
        "\r\n",
        "<p style=\"border: solid; padding: 5pt; color: white; background-color: Green\">\r\n",
        "Your feedback and contributions can help make this notebook even more useful for the security community.\r\n",
        "</p>"
      ],
      "metadata": {
        "nteract": {
          "transient": {
            "deleting": false
          }
        }
      }
    }
  ],
  "metadata": {
    "kernelspec": {
      "name": "python38-azureml",
      "language": "python",
      "display_name": "Python 3.8 - AzureML"
    },
    "language_info": {
      "name": "python",
      "version": "3.8.10",
      "mimetype": "text/x-python",
      "codemirror_mode": {
        "name": "ipython",
        "version": 3
      },
      "pygments_lexer": "ipython3",
      "nbconvert_exporter": "python",
      "file_extension": ".py"
    },
    "kernel_info": {
      "name": "python38-azureml"
    },
    "microsoft": {
      "host": {
        "AzureML": {
          "notebookHasBeenCompleted": true
        }
      }
    },
    "nteract": {
      "version": "nteract-front-end@1.0.0"
    }
  },
  "nbformat": 4,
  "nbformat_minor": 2
}
